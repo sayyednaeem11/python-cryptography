{
 "cells": [
  {
   "cell_type": "code",
   "execution_count": 1,
   "metadata": {},
   "outputs": [],
   "source": [
    "from cryptography.fernet import Fernet"
   ]
  },
  {
   "cell_type": "code",
   "execution_count": 2,
   "metadata": {},
   "outputs": [],
   "source": [
    "def generatemypasskey():\n",
    "    passkey=Fernet.generate_key()\n",
    "    print(passkey)\n",
    "    abc= open(\"passkey.key\",\"wb\") \n",
    "    abc.write(passkey)\n",
    "    abc.close()"
   ]
  },
  {
   "cell_type": "code",
   "execution_count": 3,
   "metadata": {},
   "outputs": [],
   "source": [
    "def getmypasskey():\n",
    "    abc=open(\"passkey.key\",\"rb\")\n",
    "    return abc.read()"
   ]
  },
  {
   "cell_type": "code",
   "execution_count": 4,
   "metadata": {},
   "outputs": [],
   "source": [
    " def secret_msg():\n",
    "    return input(\"Enter secret message\")"
   ]
  },
  {
   "cell_type": "code",
   "execution_count": 5,
   "metadata": {},
   "outputs": [],
   "source": [
    "  def encrypted_msg(msg):\n",
    "        key=getmypasskey()\n",
    "        k=Fernet(key)\n",
    "        msg_code=k.encrypt(msg)\n",
    "        \n",
    "        return msg_code "
   ]
  },
  {
   "cell_type": "code",
   "execution_count": 21,
   "metadata": {},
   "outputs": [],
   "source": [
    "def decrypted_msg(message_secret):\n",
    "    key=getmypasskey()\n",
    "    k=Fernet(key)\n",
    "    decrypt_msg=k.decrypt(message_secret)\n",
    "    return decrypt_msg\n"
   ]
  },
  {
   "cell_type": "code",
   "execution_count": 16,
   "metadata": {},
   "outputs": [
    {
     "name": "stdout",
     "output_type": "stream",
     "text": [
      "b'x9pn2a3Ga5vx53-9aPWe0-9howvQlz5JXt1FAkiK9SM='\n"
     ]
    }
   ],
   "source": [
    "  generatemypasskey()"
   ]
  },
  {
   "cell_type": "code",
   "execution_count": 17,
   "metadata": {},
   "outputs": [
    {
     "data": {
      "text/plain": [
       "b'x9pn2a3Ga5vx53-9aPWe0-9howvQlz5JXt1FAkiK9SM='"
      ]
     },
     "execution_count": 17,
     "metadata": {},
     "output_type": "execute_result"
    }
   ],
   "source": [
    "getmypasskey()"
   ]
  },
  {
   "cell_type": "code",
   "execution_count": 18,
   "metadata": {},
   "outputs": [
    {
     "name": "stdout",
     "output_type": "stream",
     "text": [
      "Enter secret messageHello\n"
     ]
    }
   ],
   "source": [
    "text=secret_msg()\n",
    "encrypt_code=encrypted_msg(text.encode('utf-8'))"
   ]
  },
  {
   "cell_type": "code",
   "execution_count": 19,
   "metadata": {},
   "outputs": [
    {
     "data": {
      "text/plain": [
       "b'gAAAAABf3imqShXMWw30RneYS5zDAJ5zB8IDr1gXdflK00Hv5Q2ikOX-fVmAX00QjrrN-czSwoECy0Xkf-QO8cP6cT__tt8xrw=='"
      ]
     },
     "execution_count": 19,
     "metadata": {},
     "output_type": "execute_result"
    }
   ],
   "source": [
    "encrypt_code"
   ]
  },
  {
   "cell_type": "code",
   "execution_count": 22,
   "metadata": {},
   "outputs": [
    {
     "data": {
      "text/plain": [
       "b'Hello'"
      ]
     },
     "execution_count": 22,
     "metadata": {},
     "output_type": "execute_result"
    }
   ],
   "source": [
    "decrypted_msg(encrypt_code)"
   ]
  },
  {
   "cell_type": "code",
   "execution_count": null,
   "metadata": {},
   "outputs": [],
   "source": []
  }
 ],
 "metadata": {
  "kernelspec": {
   "display_name": "Python 3",
   "language": "python",
   "name": "python3"
  },
  "language_info": {
   "codemirror_mode": {
    "name": "ipython",
    "version": 3
   },
   "file_extension": ".py",
   "mimetype": "text/x-python",
   "name": "python",
   "nbconvert_exporter": "python",
   "pygments_lexer": "ipython3",
   "version": "3.8.5"
  }
 },
 "nbformat": 4,
 "nbformat_minor": 4
}
